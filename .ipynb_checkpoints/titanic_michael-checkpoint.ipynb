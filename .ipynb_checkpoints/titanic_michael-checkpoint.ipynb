{
 "cells": [
  {
   "cell_type": "markdown",
   "metadata": {},
   "source": [
    "# Titanic Project"
   ]
  },
  {
   "cell_type": "markdown",
   "metadata": {},
   "source": [
    "In this notebook, I am working on Kaggle's Titanic dataset to find patterns in the passenger data in the hope to discover certain features that improved the likelihood of survival. This notebook is inspired by work done by others, including Youtuber Ken Jee's 'Beginner Kaggle Data Science Project Walk-Through' video, and help from data scientist friends of mine; a particularly special thanks to my close friend Scott Vinay. I understand all code executed below and feel comfortable replicating similar work in future."
   ]
  },
  {
   "cell_type": "code",
   "execution_count": 1,
   "metadata": {},
   "outputs": [],
   "source": [
    "# Importing modules\n",
    "import numpy as np\n",
    "import pandas as pd\n",
    "from matplotlib import pyplot as plt\n",
    "import seaborn as sns\n",
    "import os\n",
    "import re\n",
    "from collections import defaultdict\n",
    "from scipy.spatial.distance import cdist\n",
    "\n",
    "# Sklearn predictive model modules\n",
    "from sklearn.ensemble import RandomForestClassifier, GradientBoostingClassifier\n",
    "from sklearn.linear_model import LogisticRegression\n",
    "from sklearn.metrics import accuracy_score, precision_score, recall_score, f1_score, roc_auc_score\n",
    "\n",
    "# Useful finder function\n",
    "def find(s, ch):\n",
    "    return np.array([i for i, ltr in enumerate(s) if ltr == ch]).astype(int)"
   ]
  },
  {
   "cell_type": "markdown",
   "metadata": {},
   "source": [
    "# Initial Data Exploration and Visualisation"
   ]
  },
  {
   "cell_type": "markdown",
   "metadata": {},
   "source": [
    "### Basic Dataframe Processing"
   ]
  },
  {
   "cell_type": "markdown",
   "metadata": {},
   "source": [
    "In the cell below, I do some initial processing of the dataframe. I make all columns lower case and replace any spaces with underscores for easy and consistent referencing. As 'passengerid' is simply another index, it is unnecessary and I remove it.\n",
    "\n",
    "To separate the training and cross validation data, I create a new column, 'train'. If a row has a train entry of 1, this is training data. If the entry is 0, this is cross validation data. I do a random permutation of indexing so to vary the subsets of training and validation data used."
   ]
  },
  {
   "cell_type": "code",
   "execution_count": 2,
   "metadata": {},
   "outputs": [],
   "source": [
    "# Loading data\n",
    "def load(mode='train'):   \n",
    "    \"\"\"\n",
    "    Loads dataframe from CSV file and performs initial processing.\n",
    "    \n",
    "    Parameters\n",
    "    ---------\n",
    "        mode : str\n",
    "            By default 'train'. Options:\n",
    "            'train': Loads training data.\n",
    "            'test' : Loads testing data.\n",
    "            \n",
    "    Returns\n",
    "    -------\n",
    "        Processed DataFrame.\n",
    "    \"\"\"\n",
    "    \n",
    "    # Loads dataframe as either training or test data\n",
    "    if mode=='train':\n",
    "        df = pd.read_csv('train.csv')\n",
    "    elif mode=='test':\n",
    "        df = pd.read_csv('test.csv')\n",
    "    else:\n",
    "        raise NotImplementedError\n",
    "        \n",
    "    # Initial dataframe processing\n",
    "    df      = df.rename(columns = {c:c.lower().replace(' ', '_') for c in df.columns})\n",
    "    df      = df.drop(columns = ['passengerid'])\n",
    "    df_cols = list(df.columns)\n",
    "    \n",
    "    # Creating 'train' column to separate training and validation data\n",
    "    indices = np.random.permutation(df.index)\n",
    "    tr_ind  = indices[:int(len(indices)*0.75)]\n",
    "    cv_ind  = indices[int(len(indices)*0.75):]\n",
    "    df.loc[tr_ind, 'train']=1\n",
    "    df.loc[cv_ind, 'train']=0\n",
    "    \n",
    "    return df"
   ]
  },
  {
   "cell_type": "markdown",
   "metadata": {},
   "source": [
    "### First Look at Dataframe"
   ]
  },
  {
   "cell_type": "code",
   "execution_count": 3,
   "metadata": {},
   "outputs": [
    {
     "data": {
      "text/html": [
       "<div>\n",
       "<style scoped>\n",
       "    .dataframe tbody tr th:only-of-type {\n",
       "        vertical-align: middle;\n",
       "    }\n",
       "\n",
       "    .dataframe tbody tr th {\n",
       "        vertical-align: top;\n",
       "    }\n",
       "\n",
       "    .dataframe thead th {\n",
       "        text-align: right;\n",
       "    }\n",
       "</style>\n",
       "<table border=\"1\" class=\"dataframe\">\n",
       "  <thead>\n",
       "    <tr style=\"text-align: right;\">\n",
       "      <th></th>\n",
       "      <th>survived</th>\n",
       "      <th>pclass</th>\n",
       "      <th>name</th>\n",
       "      <th>sex</th>\n",
       "      <th>age</th>\n",
       "      <th>sibsp</th>\n",
       "      <th>parch</th>\n",
       "      <th>ticket</th>\n",
       "      <th>fare</th>\n",
       "      <th>cabin</th>\n",
       "      <th>embarked</th>\n",
       "      <th>train</th>\n",
       "    </tr>\n",
       "  </thead>\n",
       "  <tbody>\n",
       "    <tr>\n",
       "      <th>0</th>\n",
       "      <td>0</td>\n",
       "      <td>3</td>\n",
       "      <td>Braund, Mr. Owen Harris</td>\n",
       "      <td>male</td>\n",
       "      <td>22.0</td>\n",
       "      <td>1</td>\n",
       "      <td>0</td>\n",
       "      <td>A/5 21171</td>\n",
       "      <td>7.2500</td>\n",
       "      <td>NaN</td>\n",
       "      <td>S</td>\n",
       "      <td>1.0</td>\n",
       "    </tr>\n",
       "    <tr>\n",
       "      <th>1</th>\n",
       "      <td>1</td>\n",
       "      <td>1</td>\n",
       "      <td>Cumings, Mrs. John Bradley (Florence Briggs Th...</td>\n",
       "      <td>female</td>\n",
       "      <td>38.0</td>\n",
       "      <td>1</td>\n",
       "      <td>0</td>\n",
       "      <td>PC 17599</td>\n",
       "      <td>71.2833</td>\n",
       "      <td>C85</td>\n",
       "      <td>C</td>\n",
       "      <td>1.0</td>\n",
       "    </tr>\n",
       "    <tr>\n",
       "      <th>2</th>\n",
       "      <td>1</td>\n",
       "      <td>3</td>\n",
       "      <td>Heikkinen, Miss. Laina</td>\n",
       "      <td>female</td>\n",
       "      <td>26.0</td>\n",
       "      <td>0</td>\n",
       "      <td>0</td>\n",
       "      <td>STON/O2. 3101282</td>\n",
       "      <td>7.9250</td>\n",
       "      <td>NaN</td>\n",
       "      <td>S</td>\n",
       "      <td>0.0</td>\n",
       "    </tr>\n",
       "    <tr>\n",
       "      <th>3</th>\n",
       "      <td>1</td>\n",
       "      <td>1</td>\n",
       "      <td>Futrelle, Mrs. Jacques Heath (Lily May Peel)</td>\n",
       "      <td>female</td>\n",
       "      <td>35.0</td>\n",
       "      <td>1</td>\n",
       "      <td>0</td>\n",
       "      <td>113803</td>\n",
       "      <td>53.1000</td>\n",
       "      <td>C123</td>\n",
       "      <td>S</td>\n",
       "      <td>1.0</td>\n",
       "    </tr>\n",
       "    <tr>\n",
       "      <th>4</th>\n",
       "      <td>0</td>\n",
       "      <td>3</td>\n",
       "      <td>Allen, Mr. William Henry</td>\n",
       "      <td>male</td>\n",
       "      <td>35.0</td>\n",
       "      <td>0</td>\n",
       "      <td>0</td>\n",
       "      <td>373450</td>\n",
       "      <td>8.0500</td>\n",
       "      <td>NaN</td>\n",
       "      <td>S</td>\n",
       "      <td>1.0</td>\n",
       "    </tr>\n",
       "  </tbody>\n",
       "</table>\n",
       "</div>"
      ],
      "text/plain": [
       "   survived  pclass                                               name  \\\n",
       "0         0       3                            Braund, Mr. Owen Harris   \n",
       "1         1       1  Cumings, Mrs. John Bradley (Florence Briggs Th...   \n",
       "2         1       3                             Heikkinen, Miss. Laina   \n",
       "3         1       1       Futrelle, Mrs. Jacques Heath (Lily May Peel)   \n",
       "4         0       3                           Allen, Mr. William Henry   \n",
       "\n",
       "      sex   age  sibsp  parch            ticket     fare cabin embarked  train  \n",
       "0    male  22.0      1      0         A/5 21171   7.2500   NaN        S    1.0  \n",
       "1  female  38.0      1      0          PC 17599  71.2833   C85        C    1.0  \n",
       "2  female  26.0      0      0  STON/O2. 3101282   7.9250   NaN        S    0.0  \n",
       "3  female  35.0      1      0            113803  53.1000  C123        S    1.0  \n",
       "4    male  35.0      0      0            373450   8.0500   NaN        S    1.0  "
      ]
     },
     "execution_count": 3,
     "metadata": {},
     "output_type": "execute_result"
    }
   ],
   "source": [
    "# Loading dataframe\n",
    "df = load()\n",
    "df.head()"
   ]
  },
  {
   "cell_type": "markdown",
   "metadata": {},
   "source": [
    "### Data Types and Null Values"
   ]
  },
  {
   "cell_type": "code",
   "execution_count": 4,
   "metadata": {},
   "outputs": [
    {
     "name": "stdout",
     "output_type": "stream",
     "text": [
      "<class 'pandas.core.frame.DataFrame'>\n",
      "RangeIndex: 891 entries, 0 to 890\n",
      "Data columns (total 12 columns):\n",
      " #   Column    Non-Null Count  Dtype  \n",
      "---  ------    --------------  -----  \n",
      " 0   survived  891 non-null    int64  \n",
      " 1   pclass    891 non-null    int64  \n",
      " 2   name      891 non-null    object \n",
      " 3   sex       891 non-null    object \n",
      " 4   age       714 non-null    float64\n",
      " 5   sibsp     891 non-null    int64  \n",
      " 6   parch     891 non-null    int64  \n",
      " 7   ticket    891 non-null    object \n",
      " 8   fare      891 non-null    float64\n",
      " 9   cabin     204 non-null    object \n",
      " 10  embarked  889 non-null    object \n",
      " 11  train     891 non-null    float64\n",
      "dtypes: float64(3), int64(4), object(5)\n",
      "memory usage: 83.7+ KB\n"
     ]
    }
   ],
   "source": [
    "df.info()"
   ]
  },
  {
   "cell_type": "code",
   "execution_count": 5,
   "metadata": {},
   "outputs": [
    {
     "name": "stdout",
     "output_type": "stream",
     "text": [
      "The feature age is 19.9 percent NaN values\n",
      "The feature cabin is 77.1 percent NaN values\n",
      "The feature embarked is 0.224 percent NaN values\n"
     ]
    }
   ],
   "source": [
    "# Isolating features containing null values\n",
    "nan_features = []\n",
    "for c in df.columns:\n",
    "    if df[c].isnull().values.any(): \n",
    "        nan_features.append(c)\n",
    "\n",
    "# Percentage of NaNs for each column with null values\n",
    "for nf in nan_features:\n",
    "    nan_percent = 100*df[nf].isnull().sum() /len(df)\n",
    "    print('The feature',nf,f'is {nan_percent:.3} percent NaN values')"
   ]
  },
  {
   "cell_type": "markdown",
   "metadata": {},
   "source": [
    "### Numeric Column Statistics"
   ]
  },
  {
   "cell_type": "code",
   "execution_count": 6,
   "metadata": {},
   "outputs": [
    {
     "data": {
      "text/html": [
       "<div>\n",
       "<style scoped>\n",
       "    .dataframe tbody tr th:only-of-type {\n",
       "        vertical-align: middle;\n",
       "    }\n",
       "\n",
       "    .dataframe tbody tr th {\n",
       "        vertical-align: top;\n",
       "    }\n",
       "\n",
       "    .dataframe thead th {\n",
       "        text-align: right;\n",
       "    }\n",
       "</style>\n",
       "<table border=\"1\" class=\"dataframe\">\n",
       "  <thead>\n",
       "    <tr style=\"text-align: right;\">\n",
       "      <th></th>\n",
       "      <th>survived</th>\n",
       "      <th>pclass</th>\n",
       "      <th>age</th>\n",
       "      <th>sibsp</th>\n",
       "      <th>parch</th>\n",
       "      <th>fare</th>\n",
       "      <th>train</th>\n",
       "    </tr>\n",
       "  </thead>\n",
       "  <tbody>\n",
       "    <tr>\n",
       "      <th>count</th>\n",
       "      <td>891.000000</td>\n",
       "      <td>891.000000</td>\n",
       "      <td>714.000000</td>\n",
       "      <td>891.000000</td>\n",
       "      <td>891.000000</td>\n",
       "      <td>891.000000</td>\n",
       "      <td>891.000000</td>\n",
       "    </tr>\n",
       "    <tr>\n",
       "      <th>mean</th>\n",
       "      <td>0.383838</td>\n",
       "      <td>2.308642</td>\n",
       "      <td>29.699118</td>\n",
       "      <td>0.523008</td>\n",
       "      <td>0.381594</td>\n",
       "      <td>32.204208</td>\n",
       "      <td>0.749719</td>\n",
       "    </tr>\n",
       "    <tr>\n",
       "      <th>std</th>\n",
       "      <td>0.486592</td>\n",
       "      <td>0.836071</td>\n",
       "      <td>14.526497</td>\n",
       "      <td>1.102743</td>\n",
       "      <td>0.806057</td>\n",
       "      <td>49.693429</td>\n",
       "      <td>0.433418</td>\n",
       "    </tr>\n",
       "    <tr>\n",
       "      <th>min</th>\n",
       "      <td>0.000000</td>\n",
       "      <td>1.000000</td>\n",
       "      <td>0.420000</td>\n",
       "      <td>0.000000</td>\n",
       "      <td>0.000000</td>\n",
       "      <td>0.000000</td>\n",
       "      <td>0.000000</td>\n",
       "    </tr>\n",
       "    <tr>\n",
       "      <th>25%</th>\n",
       "      <td>0.000000</td>\n",
       "      <td>2.000000</td>\n",
       "      <td>20.125000</td>\n",
       "      <td>0.000000</td>\n",
       "      <td>0.000000</td>\n",
       "      <td>7.910400</td>\n",
       "      <td>0.500000</td>\n",
       "    </tr>\n",
       "    <tr>\n",
       "      <th>50%</th>\n",
       "      <td>0.000000</td>\n",
       "      <td>3.000000</td>\n",
       "      <td>28.000000</td>\n",
       "      <td>0.000000</td>\n",
       "      <td>0.000000</td>\n",
       "      <td>14.454200</td>\n",
       "      <td>1.000000</td>\n",
       "    </tr>\n",
       "    <tr>\n",
       "      <th>75%</th>\n",
       "      <td>1.000000</td>\n",
       "      <td>3.000000</td>\n",
       "      <td>38.000000</td>\n",
       "      <td>1.000000</td>\n",
       "      <td>0.000000</td>\n",
       "      <td>31.000000</td>\n",
       "      <td>1.000000</td>\n",
       "    </tr>\n",
       "    <tr>\n",
       "      <th>max</th>\n",
       "      <td>1.000000</td>\n",
       "      <td>3.000000</td>\n",
       "      <td>80.000000</td>\n",
       "      <td>8.000000</td>\n",
       "      <td>6.000000</td>\n",
       "      <td>512.329200</td>\n",
       "      <td>1.000000</td>\n",
       "    </tr>\n",
       "  </tbody>\n",
       "</table>\n",
       "</div>"
      ],
      "text/plain": [
       "         survived      pclass         age       sibsp       parch        fare  \\\n",
       "count  891.000000  891.000000  714.000000  891.000000  891.000000  891.000000   \n",
       "mean     0.383838    2.308642   29.699118    0.523008    0.381594   32.204208   \n",
       "std      0.486592    0.836071   14.526497    1.102743    0.806057   49.693429   \n",
       "min      0.000000    1.000000    0.420000    0.000000    0.000000    0.000000   \n",
       "25%      0.000000    2.000000   20.125000    0.000000    0.000000    7.910400   \n",
       "50%      0.000000    3.000000   28.000000    0.000000    0.000000   14.454200   \n",
       "75%      1.000000    3.000000   38.000000    1.000000    0.000000   31.000000   \n",
       "max      1.000000    3.000000   80.000000    8.000000    6.000000  512.329200   \n",
       "\n",
       "            train  \n",
       "count  891.000000  \n",
       "mean     0.749719  \n",
       "std      0.433418  \n",
       "min      0.000000  \n",
       "25%      0.500000  \n",
       "50%      1.000000  \n",
       "75%      1.000000  \n",
       "max      1.000000  "
      ]
     },
     "execution_count": 6,
     "metadata": {},
     "output_type": "execute_result"
    }
   ],
   "source": [
    "df.describe()"
   ]
  },
  {
   "cell_type": "code",
   "execution_count": 7,
   "metadata": {},
   "outputs": [],
   "source": [
    "# Separating into numeric and categorical data\n",
    "num_cols = ['age', 'sibsp', 'parch', 'fare']\n",
    "cat_cols = ['survived', 'pclass', 'name', 'sex', 'ticket', 'cabin', 'embarked']\n",
    "\n",
    "# Separating into numeric and categorical dataframes\n",
    "df_num = df[num_cols]\n",
    "df_cat = df[cat_cols]"
   ]
  },
  {
   "cell_type": "markdown",
   "metadata": {},
   "source": [
    "### Basic Visualisation"
   ]
  },
  {
   "cell_type": "code",
   "execution_count": 8,
   "metadata": {},
   "outputs": [
    {
     "data": {
      "image/png": "[encoded data removed]",
      "text/plain": [
       "<Figure size 720x576 with 4 Axes>"
      ]
     },
     "metadata": {
      "needs_background": "light"
     },
     "output_type": "display_data"
    }
   ],
   "source": [
    "# Histogram subplot visualisation of numeric columns\n",
    "fig, axes = plt.subplots(nrows=2,ncols=2,figsize=[10,8])\n",
    "axes = axes.flatten()\n",
    "\n",
    "# Visualisation\n",
    "count=0\n",
    "for ax in axes:\n",
    "    col = num_cols[count]\n",
    "    bins_=[np.arange(0,80,5), np.arange(0,4,0.5), np.arange(0,4,0.5), np.arange(0,175,10), ]\n",
    "    ax.hist(df_num[col],bins=bins_[count])\n",
    "    ax.set_title(col)\n",
    "    count+=1"
   ]
  },
  {
   "cell_type": "markdown",
   "metadata": {},
   "source": [
    "To make the fare distribution more uniform I will take the logarithm of that feature.\n",
    "\n",
    "Model might be improved to group sibsp and parch by 0 and 1 or more."
   ]
  },
  {
   "cell_type": "code",
   "execution_count": 9,
   "metadata": {},
   "outputs": [],
   "source": [
    "df['fare'] = np.log(df.fare+1)"
   ]
  },
  {
   "cell_type": "markdown",
   "metadata": {},
   "source": [
    "# Processing Dataframe"
   ]
  },
  {
   "cell_type": "markdown",
   "metadata": {},
   "source": [
    "### Function To Sort Null Values"
   ]
  },
  {
   "cell_type": "markdown",
   "metadata": {},
   "source": [
    "The code below is used to evaluate the null values. The null evaluation types I have used below are:\n",
    "\n",
    "1 - Zero: \n",
    "This method sorts all null values in the dataframe to zero.\n",
    "\n",
    "2 - Mean: \n",
    "This method calculates the mean of a column using the training data. Then it applies the mean to all null values in the training and cross validation data.\n",
    "\n",
    "3 - Nearest Neighbour:\n",
    "This method creates a symmetric 2x2 matrix of distances, that is the distance, or similarity, between each of the rows. First, you identify which column contains null values, e.g. column x. Next, you create the distance matrix using all columns except for column x. Next, you find the row, e.g. row i, that contains the null value. Following this, you look at row i in the distance matrix and identify the smallest value, which is given at position i,j. Then you replace the null value in row i, column x with the value in row j, column x. This process repeats until all null values are replaced with the value of the row that is most similar to itself. \n",
    "\n",
    "There are many different metrics to calculate the distance between rows, here below I've used seuclidean which is the standardised euclidean distance. This differs from the regular euclidean distance by standardising the columns before calculating the distances.\n",
    "\n",
    "Note: naturally the distance matrix has a trace of zero (zeros along the diagonal) so I've set the diagonal values to purposefully large values to prevent the code from selecting diagonal values as the shortest distance."
   ]
  },
  {
   "cell_type": "code",
   "execution_count": 10,
   "metadata": {},
   "outputs": [],
   "source": [
    "# Function to sort the null values \n",
    "def sortnull(df, mode = 'zero'):\n",
    "    \"\"\"\n",
    "    Sorts null values of a dataframe.\n",
    "    \n",
    "    Parameters\n",
    "    ---------\n",
    "        df : DataFrame\n",
    "            Dataframe that contains null values to be sorted.\n",
    "            \n",
    "        mode : By default 'zero'. Options:\n",
    "            'zero': Sorts null values into zeros.\n",
    "            'mean': Sorts null values using the mean.\n",
    "            'near': Sorts null values using the nearest neighbour algorithm\n",
    "                    on the rows.\n",
    "    Returns\n",
    "    -------\n",
    "        DataFrame with no null values.\n",
    "    \"\"\"\n",
    "    \n",
    "    if mode=='zero':\n",
    "        df = df.fillna(0)\n",
    "\n",
    "    if mode=='mean':\n",
    "        # Mean of the nf column in training dataframe (don't use cv dataframe as this fits data to cv data)\n",
    "        mean      = df.loc[df['train']==1, 'age'].mean()\n",
    "        df['age'] = df['age'].fillna(mean)\n",
    "\n",
    "    # Using nearest neighbours to sort null values\n",
    "    if mode=='near':\n",
    "        df_cols = ['sex', 'sibsp', 'parch', 'fare', 'embarked_C', 'embarked_Q',\n",
    "                   'embarked_S', 'pclass_1', 'pclass_2', 'pclass_3']\n",
    "\n",
    "        # Creating distance matrix to find nearest neighbours\n",
    "        dists   = cdist(df[df_cols].values, df[df_cols].values, 'seuclidean')\n",
    "        dists   = dists + 1e5*np.identity(dists.shape[0])\n",
    "        \n",
    "        # Locates indices of null values\n",
    "        null_idx     = df.loc[pd.isna(df['age']), :].index\n",
    "        non_null_idx = df.loc[~pd.isna(df['age']), :].index\n",
    "\n",
    "        # Loops through rows containing null values\n",
    "        for i in null_idx:\n",
    "            # Distances\n",
    "            distances = list(dists[i, :])\n",
    "            distance_idx_sorted = sorted(\n",
    "                                  range(len(distances)), \n",
    "                                  key=lambda j: distances[j])\n",
    "            for k in range(len(distances)):\n",
    "                if np.isnan(df.loc[k, 'age']) == True:\n",
    "                    continue\n",
    "                else:\n",
    "                    df.loc[i, 'age'] = df.loc[k, 'age']\n",
    "                    break \n",
    "\n",
    "    return df"
   ]
  },
  {
   "cell_type": "markdown",
   "metadata": {},
   "source": [
    "### Processing Function\n",
    "\n",
    "The process function below manipulates the columns into a way that allows data science to be done with it. \n",
    "\n",
    "I converted the 'sex' column of male/female into binary 1,0. \n",
    "\n",
    "I noticed that the ages of people with master as their title was lower than the dataframe mean age. I isolated the ages containing master in the title, calculated their mean and replaced the null values in this subset with this mean.\n",
    "\n",
    "I one-hot encoded the columns 'embarked' and 'pclass'. This separates these individual columns into n columns, where n is the number of unique values in each column. E.g. the pclass column had entries {1, 2, 3} depending on the ticket class the individual had. After one-hot encoding there are three separate columns: pclass_1, pclass_2 and pclass_3. In a row where pclass is equal to 1, pclass_1 has an entry of 1 and the other columns have an entry of 0 etc. The same thing is done to the embarked column.\n",
    "\n",
    "Next, I make use of the sortnull function above to take any null values left remaining in the processed dataframe to be replaced. This allows us to use all the rows in the data to make predictions. "
   ]
  },
  {
   "cell_type": "code",
   "execution_count": 11,
   "metadata": {},
   "outputs": [],
   "source": [
    "# Processing the dataframe\n",
    "def process(df, sortnull_mode='zero'):\n",
    "    \"\"\"\n",
    "    Processes inputted dataframe into format that allows for data science.\n",
    "    \n",
    "    Parameters\n",
    "    ---------\n",
    "        df : DataFrame\n",
    "            Dataframe that requires processing.\n",
    "            \n",
    "        sortnull_mode : By default 'zero'. Options:\n",
    "            'zero': Sorts null values into zeros.\n",
    "            'mean': Sorts null values using the mean.\n",
    "            'near': Sorts null values using the nearest neighbour algorithm\n",
    "                    on the rows.\n",
    "    Returns\n",
    "    -------\n",
    "        dftr : DataFrame\n",
    "            Training dataframe, used to train the predictive model.\n",
    "        dfcv : DataFrame\n",
    "            Cross validation dataframe, used to make and compare predictions\n",
    "            to test predictive models.\n",
    "        features : list of strings.\n",
    "    \"\"\"\n",
    "    \n",
    "    # Sorting gender column\n",
    "    if 'male' in df['sex'].values:\n",
    "        df['sex'] = (df['sex']=='male').astype(int).values\n",
    "    \n",
    "    # Sorting age null values using entries in name col containing str 'Master' \n",
    "    masterAge_mean = df['age'].loc[df['name'].str.contains('Master')].mean()\n",
    "    masterAge_mean = round(masterAge_mean, 2)\n",
    "    df['age'].loc[df['name'].str.contains('Master')] = df['age'].loc[df['name'].str.contains('Master')].fillna(masterAge_mean)\n",
    "    df.loc[df['name'].str.contains('Master'), 'age'] = df.loc[df['name'].str.contains('Master'), 'age'].fillna(masterAge_mean)\n",
    "    \n",
    "    # One-hot encoding 'embarked', 'pclass' columns\n",
    "    # Embarked column\n",
    "    df.dropna(subset=['embarked'])\n",
    "    df_embarked   = pd.get_dummies(df.embarked)\n",
    "    embarked_cols = list(df_embarked.columns)\n",
    "    df_embarked = df_embarked.rename(columns = {c: f'embarked_{c}' for c in embarked_cols})\n",
    "    \n",
    "    # pclass column\n",
    "    df_pclass   = pd.get_dummies(df.pclass)\n",
    "    pclass_cols = list(df_pclass.columns)\n",
    "    df_pclass   = df_pclass.rename(columns = {c: f'pclass_{c}' for c in pclass_cols})\n",
    "\n",
    "    # Removing unnecessary columns\n",
    "    removed_cols = ['name','ticket','embarked','pclass','cabin', 'cabin_number','survived']\n",
    "    df = pd.concat([df, df_embarked, df_pclass], axis=1)\n",
    "    df = df[[c for c in df if c not in removed_cols] + ['survived']]\n",
    "    \n",
    "    # Sorting null values using sortnull\n",
    "    df = sortnull(df, sortnull_mode)\n",
    "    \n",
    "    # Feature scaling: normalisation\n",
    "    for nf in num_cols:\n",
    "        col = df.loc[df['train']==1, nf]\n",
    "        num_col_mean = col.mean()\n",
    "        num_col_std  = col.std()\n",
    "        df[nf] = (df[nf] - num_col_mean)/num_col_std\n",
    "        \n",
    "    # Separating into training and cross validation data\n",
    "    dftr = df[df['train']==1]\n",
    "    dfcv = df[df['train']==0]\n",
    "    \n",
    "    # Removing 'train' column\n",
    "    df = df.drop(columns = ['train'])\n",
    "    \n",
    "    # Finding features\n",
    "    features = df.columns[:-1]\n",
    "\n",
    "    return dftr, dfcv, features"
   ]
  },
  {
   "cell_type": "markdown",
   "metadata": {},
   "source": [
    "# Loading Dataframes and Defining Models"
   ]
  },
  {
   "cell_type": "markdown",
   "metadata": {},
   "source": [
    "### Loading Data"
   ]
  },
  {
   "cell_type": "code",
   "execution_count": 12,
   "metadata": {},
   "outputs": [
    {
     "name": "stderr",
     "output_type": "stream",
     "text": [
      "C:\\Users\\micha\\anaconda3\\lib\\site-packages\\pandas\\core\\indexing.py:670: SettingWithCopyWarning: \n",
      "A value is trying to be set on a copy of a slice from a DataFrame\n",
      "\n",
      "See the caveats in the documentation: https://pandas.pydata.org/pandas-docs/stable/user_guide/indexing.html#returning-a-view-versus-a-copy\n",
      "  iloc._setitem_with_indexer(indexer, value)\n",
      "<ipython-input-11-e53ae1ae557d>:27: FutureWarning: elementwise comparison failed; returning scalar instead, but in the future will perform elementwise comparison\n",
      "  if 'male' in df['sex'].values:\n",
      "C:\\Users\\micha\\anaconda3\\lib\\site-packages\\pandas\\core\\indexing.py:670: SettingWithCopyWarning: \n",
      "A value is trying to be set on a copy of a slice from a DataFrame\n",
      "\n",
      "See the caveats in the documentation: https://pandas.pydata.org/pandas-docs/stable/user_guide/indexing.html#returning-a-view-versus-a-copy\n",
      "  iloc._setitem_with_indexer(indexer, value)\n",
      "<ipython-input-11-e53ae1ae557d>:27: FutureWarning: elementwise comparison failed; returning scalar instead, but in the future will perform elementwise comparison\n",
      "  if 'male' in df['sex'].values:\n",
      "C:\\Users\\micha\\anaconda3\\lib\\site-packages\\pandas\\core\\indexing.py:670: SettingWithCopyWarning: \n",
      "A value is trying to be set on a copy of a slice from a DataFrame\n",
      "\n",
      "See the caveats in the documentation: https://pandas.pydata.org/pandas-docs/stable/user_guide/indexing.html#returning-a-view-versus-a-copy\n",
      "  iloc._setitem_with_indexer(indexer, value)\n"
     ]
    }
   ],
   "source": [
    "# Training and cross validation data and features\n",
    "dftr_near, dfcv_near, features = process(df, sortnull_mode = 'near')\n",
    "dftr_mean, dfcv_mean, features = process(df, sortnull_mode = 'mean')\n",
    "dftr_zero, dfcv_zero, features = process(df, sortnull_mode = 'zero')\n",
    "\n",
    "# X training data\n",
    "Xtr_near = dftr_near[features].values\n",
    "Xtr_mean = dftr_mean[features].values\n",
    "Xtr_zero = dftr_zero[features].values\n",
    "# X cross validation data\n",
    "Xcv_near = dfcv_near[features].values\n",
    "Xcv_mean = dfcv_mean[features].values\n",
    "Xcv_zero = dfcv_zero[features].values\n",
    "\n",
    "# X data dictionary\n",
    "X_modes = {\n",
    "    'Near': [Xtr_near, Xcv_near],\n",
    "    'Mean': [Xtr_mean, Xcv_mean],\n",
    "    'Zero': [Xtr_zero, Xcv_zero]}\n",
    "\n",
    "# y outputs (dftr_mean=dftr_zero and dfcv_mean=dfcv_zero as these values aren't changed by sorting nans)\n",
    "ytr = dftr_mean['survived'].values\n",
    "ycv = dfcv_mean['survived'].values"
   ]
  },
  {
   "cell_type": "markdown",
   "metadata": {},
   "source": [
    "### Defining the Predictive Models"
   ]
  },
  {
   "cell_type": "code",
   "execution_count": 13,
   "metadata": {},
   "outputs": [],
   "source": [
    "# Creating models\n",
    "model_rf = RandomForestClassifier()\n",
    "model_gb = GradientBoostingClassifier()\n",
    "model_lr = LogisticRegression(max_iter=1e5)\n",
    "\n",
    "# Models dictionary\n",
    "models = {\n",
    "    'Random Forest': model_rf,\n",
    "    'Gradient Boosting': model_gb,\n",
    "    'Logistic Regression': model_lr}"
   ]
  },
  {
   "cell_type": "markdown",
   "metadata": {},
   "source": [
    "# Results\n",
    "\n",
    "### Get Result Function\n",
    "\n",
    "The function below receives the models and the data and produces the the results, which indicate how well the models do when predicting the outcome on the cross validation set. The models are first created using the training data, (Xtr, ytr), and then use the cross validation input data, Xcv, to make predictions on the outcome, y_pred. These predictions are then compared directly to the true cross validation output data, ycv, and return a single value metric that allows easy comparison between the different models and null value evaluation types. The two metrics I have used below are the F1 score and the accuracy. "
   ]
  },
  {
   "cell_type": "code",
   "execution_count": 14,
   "metadata": {},
   "outputs": [],
   "source": [
    "def get_results(models, X_modes, ytr, ycv):\n",
    "    \"\"\"\n",
    "    Processes inputted dataframe into format that allows for data science.\n",
    "    \n",
    "    Parameters\n",
    "    ---------\n",
    "        models : dict\n",
    "            Dictionary containing predictive models.\n",
    "        X_modes : dict\n",
    "            Dictionary containing input training and cross validation\n",
    "            data for different null evaluation types.\n",
    "        ytr : numpy.ndarray\n",
    "            Array containing output training data.\n",
    "        ycv : numpy.ndarray\n",
    "            Array containing output cross validation data.\n",
    "    Returns\n",
    "    -------\n",
    "        df_results : DataFrame\n",
    "            Dataframe containing the results for the models\n",
    "            and data inputted.\n",
    "    \"\"\"\n",
    "    \n",
    "    # Creating empty dictionary\n",
    "    data = defaultdict(list)\n",
    "    \n",
    "    # Looping through each model\n",
    "    for m in models.keys():\n",
    "        model      = models[m]\n",
    "        # Looping through each set of X data\n",
    "        for x in X_modes.keys():\n",
    "            # Fitting model to X,y training data\n",
    "            X = X_modes[x][0]\n",
    "            y = ytr\n",
    "            model.fit(X,y)\n",
    "            \n",
    "            # y prediction using cross validation data\n",
    "            y_pred = model.predict(X_modes[x][1])\n",
    "            \n",
    "            # Evaluation metrics\n",
    "            acc    = accuracy_score(y_pred,ycv)\n",
    "            f1     = f1_score(y_pred,ycv)\n",
    "            \n",
    "            # Appending values to dataframe\n",
    "            data['model']   .append(m)\n",
    "            data['mode']    .append(x)\n",
    "            data['accuracy'].append(acc)\n",
    "            data['f1']      .append(f1)\n",
    "            \n",
    "            # Creating dataframe of results\n",
    "            df_results = pd.DataFrame(data)\n",
    "            \n",
    "    return df_results"
   ]
  },
  {
   "cell_type": "markdown",
   "metadata": {},
   "source": [
    "### Results Dataframe"
   ]
  },
  {
   "cell_type": "code",
   "execution_count": 15,
   "metadata": {},
   "outputs": [
    {
     "data": {
      "text/html": [
       "<div>\n",
       "<style scoped>\n",
       "    .dataframe tbody tr th:only-of-type {\n",
       "        vertical-align: middle;\n",
       "    }\n",
       "\n",
       "    .dataframe tbody tr th {\n",
       "        vertical-align: top;\n",
       "    }\n",
       "\n",
       "    .dataframe thead th {\n",
       "        text-align: right;\n",
       "    }\n",
       "</style>\n",
       "<table border=\"1\" class=\"dataframe\">\n",
       "  <thead>\n",
       "    <tr style=\"text-align: right;\">\n",
       "      <th></th>\n",
       "      <th>model</th>\n",
       "      <th>mode</th>\n",
       "      <th>accuracy</th>\n",
       "      <th>f1</th>\n",
       "    </tr>\n",
       "  </thead>\n",
       "  <tbody>\n",
       "    <tr>\n",
       "      <th>0</th>\n",
       "      <td>Random Forest</td>\n",
       "      <td>Near</td>\n",
       "      <td>0.834081</td>\n",
       "      <td>0.741259</td>\n",
       "    </tr>\n",
       "    <tr>\n",
       "      <th>1</th>\n",
       "      <td>Random Forest</td>\n",
       "      <td>Mean</td>\n",
       "      <td>0.829596</td>\n",
       "      <td>0.739726</td>\n",
       "    </tr>\n",
       "    <tr>\n",
       "      <th>2</th>\n",
       "      <td>Random Forest</td>\n",
       "      <td>Zero</td>\n",
       "      <td>0.843049</td>\n",
       "      <td>0.761905</td>\n",
       "    </tr>\n",
       "    <tr>\n",
       "      <th>3</th>\n",
       "      <td>Gradient Boosting</td>\n",
       "      <td>Near</td>\n",
       "      <td>0.834081</td>\n",
       "      <td>0.751678</td>\n",
       "    </tr>\n",
       "    <tr>\n",
       "      <th>4</th>\n",
       "      <td>Gradient Boosting</td>\n",
       "      <td>Mean</td>\n",
       "      <td>0.852018</td>\n",
       "      <td>0.781457</td>\n",
       "    </tr>\n",
       "    <tr>\n",
       "      <th>5</th>\n",
       "      <td>Gradient Boosting</td>\n",
       "      <td>Zero</td>\n",
       "      <td>0.843049</td>\n",
       "      <td>0.758621</td>\n",
       "    </tr>\n",
       "    <tr>\n",
       "      <th>6</th>\n",
       "      <td>Logistic Regression</td>\n",
       "      <td>Near</td>\n",
       "      <td>0.793722</td>\n",
       "      <td>0.712500</td>\n",
       "    </tr>\n",
       "    <tr>\n",
       "      <th>7</th>\n",
       "      <td>Logistic Regression</td>\n",
       "      <td>Mean</td>\n",
       "      <td>0.802691</td>\n",
       "      <td>0.725000</td>\n",
       "    </tr>\n",
       "    <tr>\n",
       "      <th>8</th>\n",
       "      <td>Logistic Regression</td>\n",
       "      <td>Zero</td>\n",
       "      <td>0.811659</td>\n",
       "      <td>0.727273</td>\n",
       "    </tr>\n",
       "  </tbody>\n",
       "</table>\n",
       "</div>"
      ],
      "text/plain": [
       "                 model  mode  accuracy        f1\n",
       "0        Random Forest  Near  0.834081  0.741259\n",
       "1        Random Forest  Mean  0.829596  0.739726\n",
       "2        Random Forest  Zero  0.843049  0.761905\n",
       "3    Gradient Boosting  Near  0.834081  0.751678\n",
       "4    Gradient Boosting  Mean  0.852018  0.781457\n",
       "5    Gradient Boosting  Zero  0.843049  0.758621\n",
       "6  Logistic Regression  Near  0.793722  0.712500\n",
       "7  Logistic Regression  Mean  0.802691  0.725000\n",
       "8  Logistic Regression  Zero  0.811659  0.727273"
      ]
     },
     "execution_count": 15,
     "metadata": {},
     "output_type": "execute_result"
    }
   ],
   "source": [
    "# Dataframe of models, null evaluation types and metric scores\n",
    "df_results = get_results(models, X_modes, ytr, ycv)\n",
    "df_results"
   ]
  },
  {
   "cell_type": "markdown",
   "metadata": {},
   "source": [
    "### Best Result Function\n",
    "\n",
    "This function searches the results dataframe above to extract the best model, null evaluation type and metric score so that it doesn't have to do be done manually. It searches one of the metric columns, finds the maximum value and the index at which the maximum value occurs. It then uses the index to extract the model and mode that correspond to that maximum value."
   ]
  },
  {
   "cell_type": "code",
   "execution_count": 16,
   "metadata": {},
   "outputs": [],
   "source": [
    "def finding_best_results(df, metric):\n",
    "    \n",
    "    best_score = df_results[metric].max()\n",
    "    idx        = df_results[metric].idxmax()\n",
    "    best_model = df_results.loc[idx, 'model']\n",
    "    best_mode  = df_results.loc[idx, 'mode']\n",
    "    \n",
    "    return best_model, best_mode, best_score"
   ]
  },
  {
   "cell_type": "markdown",
   "metadata": {},
   "source": [
    "### Displaying Best Results"
   ]
  },
  {
   "cell_type": "code",
   "execution_count": 17,
   "metadata": {},
   "outputs": [
    {
     "name": "stdout",
     "output_type": "stream",
     "text": [
      "('Gradient Boosting', 'Mean', 0.781456953642384)\n"
     ]
    }
   ],
   "source": [
    "best_f1  = finding_best_results(df, 'f1')\n",
    "best_acc = finding_best_results(df, 'accuracy')\n",
    "print(best_f1)"
   ]
  },
  {
   "cell_type": "markdown",
   "metadata": {},
   "source": [
    "# Visualising Results\n",
    "\n",
    "The plotter function recieves the results dataframe and plots them in an easily understood bar chat. The models are separated by spaces and the different null value evaluation tpyes are colours."
   ]
  },
  {
   "cell_type": "code",
   "execution_count": 18,
   "metadata": {},
   "outputs": [],
   "source": [
    "def plotter(df, metric='f1'):\n",
    "    \"\"\"\n",
    "    Plots the results of a results dataframe.\n",
    "    \n",
    "    Parameters\n",
    "    ---------\n",
    "        df : DataFrame\n",
    "            Dataframe of results.\n",
    "        metric : str\n",
    "            By default 'f1'. Options:\n",
    "                'f1': F1 score.\n",
    "                'accuracy': accuracy score.\n",
    "    Returns\n",
    "    -------\n",
    "    \n",
    "    \"\"\"\n",
    "\n",
    "    # General figure configuration\n",
    "    plt.figure(figsize=(10,5))\n",
    "    sns.set(font_scale=2)\n",
    "    \n",
    "    # Creating lists from dataframe\n",
    "    models         = df['model'].unique()\n",
    "    nan_eval_types = df['mode'].unique()\n",
    "    \n",
    "    # Model separation on graphs\n",
    "    main_ticks = np.arange(len(models))\n",
    "    jump = 1/(len(nan_eval_types)+1)\n",
    "    \n",
    "    # Looping through each null value evaluation type\n",
    "    for i, net in enumerate(nan_eval_types):\n",
    "        xpos = main_ticks + jump*i\n",
    "        plot_data = [df.loc[(df['model']==mod) &\n",
    "                            (df['mode']==net),\n",
    "                            metric].values[0] for mod in models]\n",
    "        \n",
    "        # Plotting bar charts\n",
    "        plt.bar(xpos,\n",
    "               plot_data,\n",
    "               width = jump*0.9,\n",
    "               label = net.title())\n",
    "    \n",
    "    # Customisation with more specifc customisation depending on metric used\n",
    "    if metric == 'f1':\n",
    "        plt.ylabel(r'$F_1$ score')\n",
    "        plt.title(r'Titanic $F_1$ Scores')\n",
    "    if metric == 'accuracy':\n",
    "        plt.ylabel('Accuracy')\n",
    "        plt.title('Titanic Accuracy Scores')\n",
    "    plt.gca().set_xticks(main_ticks + jump*(i/2))\n",
    "    plt.gca().set_xticklabels(models)\n",
    "    legend = plt.legend(title='Null Value Processing Type', loc=[1.01,0.65])\n",
    "    plt.setp(legend.get_title(), fontsize=14)\n",
    "    plt.grid(axis='x')\n",
    "    # plt.ylim([0,1])\n",
    "    plt.show()"
   ]
  },
  {
   "cell_type": "markdown",
   "metadata": {},
   "source": [
    "### Visualising Final Results Using Evaluation Metrics"
   ]
  },
  {
   "cell_type": "code",
   "execution_count": 19,
   "metadata": {},
   "outputs": [
    {
     "data": {
      "image/png": "[encoded data removed]",
      "text/plain": [
       "<Figure size 720x360 with 1 Axes>"
      ]
     },
     "metadata": {
      "needs_background": "light"
     },
     "output_type": "display_data"
    },
    {
     "data": {
      "image/png": "[encoded data removed]",
      "text/plain": [
       "<Figure size 720x360 with 1 Axes>"
      ]
     },
     "metadata": {},
     "output_type": "display_data"
    }
   ],
   "source": [
    "plotter(df_results)\n",
    "plotter(df_results, metric='accuracy')"
   ]
  }
 ],
 "metadata": {
  "kernelspec": {
   "display_name": "Python 3",
   "language": "python",
   "name": "python3"
  },
  "language_info": {
   "codemirror_mode": {
    "name": "ipython",
    "version": 3
   },
   "file_extension": ".py",
   "mimetype": "text/x-python",
   "name": "python",
   "nbconvert_exporter": "python",
   "pygments_lexer": "ipython3",
   "version": "3.8.5"
  }
 },
 "nbformat": 4,
 "nbformat_minor": 4
}
